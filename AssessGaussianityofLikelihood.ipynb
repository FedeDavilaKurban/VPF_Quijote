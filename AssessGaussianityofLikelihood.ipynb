{
 "cells": [
  {
   "cell_type": "code",
   "execution_count": 13,
   "metadata": {},
   "outputs": [],
   "source": [
    "import numpy as np\n",
    "import matplotlib.pyplot as plt\n",
    "from astropy.io import ascii\n",
    "import os\n",
    "\n",
    "def NB(x):\n",
    "    return np.log(1+x)/x\n",
    "def term(x):\n",
    "    return (np.sqrt(1+2*x)-1)/x\n",
    "\n",
    "cosm = 'fiducial'\n",
    "simnum = 0\n",
    "ns = 10000\n",
    "rbin = 8\n",
    "rmin, rmax = 3., 25.\n",
    "njk = 10\n",
    "#filename = f'../data/vpfdata_{rmin}-{rmax}-{rbin}-{njk}-{ns}-{cosm}-{simnum}.dat'\n",
    "filedir = '/home/federico/mnts/clemente/Proyectos/VPF_Quijote/data/output/'\n",
    "\n",
    "filelist = os.listdir(filedir)\n",
    "nsim = len(filelist)\n",
    "\n",
    "chis = []\n",
    "\n",
    "# Read all files\n",
    "for file in filelist:\n",
    "    data = ascii.read(filedir+file)\n",
    "    chis.append( data['chi'] )\n",
    "\n",
    "# Calculate the covariance summation and covariance proper\n",
    "cov = np.zeros((rbin,rbin))\n",
    "chis_mean = np.mean(chis,axis=0)\n",
    "for i in range(rbin):\n",
    "    for j in range(rbin):\n",
    "        for k in range(nsim):\n",
    "            a = (chis[k][i]-chis_mean[i])\n",
    "            b = (chis[k][j]-chis_mean[j])\n",
    "            cov[i][j] += a*b\n",
    "cov = cov/(nsim-1)\n",
    "\n",
    "# Calculate chi squared\n",
    "chisq = []\n",
    "for i in range(nsim):\n",
    "    a = np.transpose(np.asarray(chis[i])-chis_mean)\n",
    "    b = (np.asarray(chis[i])-chis_mean)\n",
    "    c = np.linalg.inv(cov)\n",
    "    chisq.append( np.dot(a,c) * b )\n"
   ]
  },
  {
   "cell_type": "code",
   "execution_count": 19,
   "metadata": {},
   "outputs": [
    {
     "data": {
      "image/png": "[encoded data removed]",
      "text/plain": [
       "<Figure size 640x480 with 1 Axes>"
      ]
     },
     "metadata": {},
     "output_type": "display_data"
    }
   ],
   "source": [
    "\n",
    "plt.hist(np.asarray(chisq).flatten(),bins=50,color=['C00'],density=True)\n",
    "plt.show()\n"
   ]
  },
  {
   "cell_type": "code",
   "execution_count": null,
   "metadata": {},
   "outputs": [],
   "source": []
  }
 ],
 "metadata": {
  "kernelspec": {
   "display_name": "vpf",
   "language": "python",
   "name": "python3"
  },
  "language_info": {
   "codemirror_mode": {
    "name": "ipython",
    "version": 3
   },
   "file_extension": ".py",
   "mimetype": "text/x-python",
   "name": "python",
   "nbconvert_exporter": "python",
   "pygments_lexer": "ipython3",
   "version": "3.9.19"
  }
 },
 "nbformat": 4,
 "nbformat_minor": 2
}
