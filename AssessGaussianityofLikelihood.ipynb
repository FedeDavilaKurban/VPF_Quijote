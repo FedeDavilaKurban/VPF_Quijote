{
 "cells": [
  {
   "cell_type": "code",
   "execution_count": 8,
   "metadata": {},
   "outputs": [
    {
     "data": {
      "image/png": "[encoded data removed]",
      "text/plain": [
       "<Figure size 640x480 with 1 Axes>"
      ]
     },
     "metadata": {},
     "output_type": "display_data"
    }
   ],
   "source": [
    "import numpy as np\n",
    "import matplotlib.pyplot as plt\n",
    "from astropy.io import ascii\n",
    "import os\n",
    "\n",
    "def NB(x):\n",
    "    return np.log(1+x)/x\n",
    "def term(x):\n",
    "    return (np.sqrt(1+2*x)-1)/x\n",
    "\n",
    "cosm = 'fiducial'\n",
    "simnum = 0\n",
    "ns = 10000\n",
    "rbin = 8\n",
    "rmin, rmax = 3., 25.\n",
    "njk = 10\n",
    "#filename = f'../data/vpfdata_{rmin}-{rmax}-{rbin}-{njk}-{ns}-{cosm}-{simnum}.dat'\n",
    "filedir = '/home/fdavilakurban/mnts/clemente/Proyectos/VPF_Quijote/data/output/'\n",
    "\n",
    "filelist = os.listdir(filedir)\n",
    "nsim = len(filelist)\n",
    "\n",
    "chis = []\n",
    "\n",
    "# Read all files\n",
    "for file in filelist:\n",
    "    data = ascii.read(filedir+file)\n",
    "    chis.append( data['chi'] )\n",
    "\n",
    "# Calculate the covariance summation and covariance proper\n",
    "covsum = 0\n",
    "chis_mean = np.mean(chis,axis=0)\n",
    "for i in range(nsim):\n",
    "    covsum += np.dot((chis[i]-chis_mean),(chis[i]-chis_mean))\n",
    "cov = covsum/(nsim-1)\n",
    "\n",
    "# Calculate chi squared\n",
    "chisq = []\n",
    "for i in range(nsim):\n",
    "    chisq.append( np.dot((chis[i]-chis_mean)/cov, (chis[i]-chis_mean)) )\n",
    "\n",
    "plt.hist(chisq,bins=15)\n",
    "plt.show()\n",
    "\n"
   ]
  }
 ],
 "metadata": {
  "kernelspec": {
   "display_name": "vpf",
   "language": "python",
   "name": "python3"
  },
  "language_info": {
   "codemirror_mode": {
    "name": "ipython",
    "version": 3
   },
   "file_extension": ".py",
   "mimetype": "text/x-python",
   "name": "python",
   "nbconvert_exporter": "python",
   "pygments_lexer": "ipython3",
   "version": "3.11.9"
  }
 },
 "nbformat": 4,
 "nbformat_minor": 2
}
