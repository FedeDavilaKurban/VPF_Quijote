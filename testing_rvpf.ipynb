{
 "cells": [
  {
   "cell_type": "code",
   "execution_count": 3,
   "metadata": {},
   "outputs": [],
   "source": [
    "import numpy as np\n",
    "import matplotlib.pyplot as plt\n",
    "from cicTools import *\n",
    "from scipy import spatial\n",
    "import configparser\n",
    "from astropy.io import ascii\n",
    "import readgadget\n",
    "import readfof\n",
    "import redshift_space_library as RSL\n",
    "\n",
    "config = configparser.ConfigParser()\n",
    "config.read('config.ini')\n",
    "\n",
    "write = config['PARAMS'].getboolean('write') #write files with results\n",
    "plot = config['PARAMS'].getboolean('plot') #plot results for checking  \n",
    "\n",
    "seed = int(config['PARAMS']['seed']) #random seed\n",
    "#lbox = float(config['PARAMS']['lbox']) #length of box\n",
    "ngxs = float(config['PARAMS']['ngxs']) #dilution\n",
    "zspace = config['PARAMS'].getboolean('zspace') #redshift space\n",
    "zspaceAxis = config['PARAMS']['zspaceAxis'] #r-space axis\n",
    "nesf = int(config['PARAMS']['nesf']) #num of test spheres\n",
    "rsbin = int(config['PARAMS']['rsbin']) #num of bins of r\n",
    "jk = int(config['PARAMS']['jk']) #num of bins of r\n",
    "invoid = config['PARAMS'].getboolean('invoid') #redshift space\n",
    "#completeRrange = config['PARAMS'].getboolean('completeRrange')\n",
    "snap = int(config['PARAMS']['snap']) #snapshot number\n",
    "minmass = float(config['PARAMS']['minmass']) #log10 of minimum mass\n",
    "maxmass = float(config['PARAMS']['maxmass']) #log10 of maximum mass \n",
    "minradV = float(config['PARAMS']['minradV']) #minimum void radius\n",
    "voidfile = str(config['PARAMS']['voidfile']) #location of voids file / which voids to use\n",
    "delta = str(config['PARAMS']['delta']) #delta used in void identification\n",
    "voids_zs = config['PARAMS'].getboolean('voids_zs') #read voids identified in z-space\n",
    "evolDelta = config['PARAMS'].getboolean('evolDelta') #read voids identified with evolved integrated delta\n",
    "\n"
   ]
  },
  {
   "cell_type": "code",
   "execution_count": 4,
   "metadata": {},
   "outputs": [
    {
     "name": "stdout",
     "output_type": "stream",
     "text": [
      "BoxSize = 1000.000 Mpc/h\n",
      "redshift = 0.0\n"
     ]
    }
   ],
   "source": [
    "\n",
    "#\n",
    "#-----------\n",
    "# Read data from Illustris\n",
    "#-----------\n",
    "#\n",
    "snapdir = '/home/fdavilakurban/mnt/clemente/quijote/Halos/FoF/fiducial/0/' #folder hosting the catalogue\n",
    "snapnum = 4   \n",
    "# get the name of the corresponding snapshot\n",
    "snapshot = '/home/fdavilakurban/mnt/clemente/quijote/Snapshots/fiducial/0/snapdir_%03d/snap_%03d'%(snapnum,snapnum)\n",
    "\n",
    "# read the redshift, boxsize, cosmology...etc in the header\n",
    "header   = readgadget.header(snapshot)\n",
    "BoxSize  = header.boxsize/1e3  #Mpc/h\n",
    "Nall     = header.nall         #Total number of particles\n",
    "Masses   = header.massarr*1e10 #Masses of the particles in Msun/h\n",
    "Omega_m  = header.omega_m      #value of Omega_m\n",
    "Omega_l  = header.omega_l      #value of Omega_l\n",
    "h        = header.hubble       #value of h\n",
    "redshift = header.redshift     #redshift of the snapshot\n",
    "Hubble   = 100.0*np.sqrt(Omega_m*(1.0+redshift)**3+Omega_l)#Value of H(z) in km/s/(Mpc/h)\n",
    "\n",
    "print('BoxSize = %.3f Mpc/h'%BoxSize)\n",
    "#print('Number of particles in the snapshot:',Nall)\n",
    "#print('Omega_m = %.3f'%Omega_m)\n",
    "#print('Omega_l = %.3f'%Omega_l)\n",
    "#print('h = %.3f'%h)\n",
    "print('redshift = %.1f'%redshift)\n",
    "\n",
    "# read the halo catalogue\n",
    "FoF = readfof.FoF_catalog(snapdir, snapnum, long_ids=False,\n",
    "                          swap=False, SFR=False, read_IDs=False)\n",
    "# get the properties of the halos\n",
    "gxs = FoF.GroupPos/1e3  #Halo positions in Mpc/h\n"
   ]
  },
  {
   "cell_type": "code",
   "execution_count": 5,
   "metadata": {},
   "outputs": [
    {
     "name": "stdout",
     "output_type": "stream",
     "text": [
      "Replicating box:\n",
      "Num of original gxs in box: 406660\n",
      "Num of gxs after replication: 540751\n"
     ]
    }
   ],
   "source": [
    "rs = np.geomspace(4,50,rsbin)\n",
    "\n",
    "#\n",
    "#-----------\n",
    "# Replicate box edges periodically\n",
    "#-----------\n",
    "#\n",
    "print('Replicating box:')\n",
    "newgxs = perrep_array(gxs,BoxSize,np.max(rs))\n",
    "print(f'Num of original gxs in box: {len(gxs)}\\n\\\n",
    "Num of gxs after replication: {len(newgxs)}')\n"
   ]
  },
  {
   "cell_type": "code",
   "execution_count": 6,
   "metadata": {},
   "outputs": [],
   "source": [
    "#\n",
    "#-----------\n",
    "# Distant observer aproximation for z-space\n",
    "#-----------\n",
    "#\n",
    "if zspace == True:\n",
    "    print('Simulating zspace')\n",
    "    H0 = .06774\n",
    "    axis = zspaceAxis\n",
    "    vaxis = 'v'+axis\n",
    "    newgxs[axis]+=newgxs[vaxis]/H0\n",
    "    newgxs[axis][np.where(newgxs[axis]<0.)[0]]+=BoxSize\n",
    "    newgxs[axis][np.where(newgxs[axis]>BoxSize)[0]]-=BoxSize\n"
   ]
  },
  {
   "cell_type": "code",
   "execution_count": 7,
   "metadata": {},
   "outputs": [
    {
     "name": "stdout",
     "output_type": "stream",
     "text": [
      "Calculating JK cic statistics...\n"
     ]
    },
    {
     "name": "stderr",
     "output_type": "stream",
     "text": [
      "/media/fdavilakurban/0a842929-67de-4adc-b64c-8bc6d17a08b0/fdavilakurban/Proyectos/VPF_Quijote/codes/cicTools.py:191: RuntimeWarning: divide by zero encountered in log\n",
      "  chi_jk[i,j,k] = -np.log(P0_jk[i,j,k])/N_mean_jk[i,j,k]\n"
     ]
    }
   ],
   "source": [
    "#\n",
    "#-----------\n",
    "# VPF calculations\n",
    "#-----------\n",
    "#\n",
    "#pos = np.column_stack((newgxs['x'],newgxs['y'],newgxs['z']))\n",
    "\n",
    "tree = spatial.cKDTree(newgxs)\n",
    "\n",
    "chi = np.zeros(len(rs))\n",
    "NXi = np.zeros(len(rs))\n",
    "P0 = np.zeros(len(rs))\n",
    "N_mean = np.zeros(len(rs))\n",
    "xi_mean = np.zeros(len(rs))\n",
    "\n",
    "if invoid == False:\n",
    "    if jk!= 0:\n",
    "        chi_std = np.zeros(len(rs))\n",
    "        NXi_std = np.zeros(len(rs))\n",
    "        P0_std = np.zeros(len(rs))\n",
    "        N_mean_std = np.zeros(len(rs))\n",
    "        xi_mean_std = np.zeros(len(rs))\n",
    "\n",
    "        print('Calculating JK cic statistics...')\n",
    "        \n",
    "        for i,r in enumerate(rs):\n",
    "            chi[i], NXi[i], P0[i], N_mean[i], xi_mean[i],\\\n",
    "                    chi_std[i], NXi_std[i], P0_std[i], N_mean_std[i], xi_mean_std[i]\\\n",
    "                        = cic_stats_jk(tree, nesf, r, BoxSize, jk)\n",
    "    # else:\n",
    "    #     print('Calculating cic statistics...')\n",
    "    #     for i,r in enumerate(rs):\n",
    "    #         chi[i], NXi[i], P0[i], N_mean[i], xi_mean[i],\\\n",
    "    #                     = cic_stats(tree, nesf, r, lbox)\n"
   ]
  },
  {
   "cell_type": "code",
   "execution_count": null,
   "metadata": {},
   "outputs": [
    {
     "name": "stdout",
     "output_type": "stream",
     "text": [
      "[0.77590032 1.46631948 2.59800042 4.36553607 6.8196401 ]\n"
     ]
    }
   ],
   "source": [
    "print(NXi)"
   ]
  },
  {
   "cell_type": "code",
   "execution_count": null,
   "metadata": {},
   "outputs": [],
   "source": [
    "\n",
    "\n",
    "#\n",
    "#-----------\n",
    "# Writing file\n",
    "#-----------\n",
    "#\n",
    "# if write==True:\n",
    "#     print(f'Creating {namefile}')\n",
    "#     if jk!=0:\n",
    "#         np.savez(namefile,chi,chi_std,NXi,NXi_std,P0,P0_std,N_mean,N_mean_std,xi_mean,xi_mean_std,rs)\n",
    "#     else:\n",
    "#         np.savez(namefile,chi,NXi,P0,N_mean,xi_mean,rs)\n",
    "\n",
    "# print(chi, rs)"
   ]
  },
  {
   "cell_type": "code",
   "execution_count": null,
   "metadata": {},
   "outputs": [
    {
     "data": {
      "image/png": "[encoded data removed]",
      "text/plain": [
       "<Figure size 640x480 with 1 Axes>"
      ]
     },
     "metadata": {},
     "output_type": "display_data"
    }
   ],
   "source": [
    "if plot==True:\n",
    "    x = np.geomspace(1E-2,1E3,50)\n",
    "    c='k'\n",
    "    #chi = -np.log(P0)/N_mean\n",
    "    #NE = N_mean*xi_mean\n",
    "\n",
    "    plt.plot(x,np.log(1+x)/x,label='Negative Binomial',c=c)\n",
    "    #a=.3\n",
    "    #plt.plot(x,(1/((1-a)*(x/a)))*((1+x/a)**(1-a)-1),label='Generalized Hierarhichal',c=c,ls='--')\n",
    "    #plt.plot(x,(1-np.e**(-x))/x,label='Minimal')\n",
    "    plt.plot(x,(np.sqrt(1+2*x)-1)/x,label='Thermodynamical',c=c,ls='-.')\n",
    "    #plt.plot(x[:-15],1-x[:-15]/2,label='Gauss',c=c)\n",
    "    # Q=1\n",
    "    # plt.plot(x,1-(np.euler_gamma+np.log(4*Q*x))/(8*Q),label='BBGKY',c=c,ls=':')\n",
    "\n",
    "    plt.plot(NXi,chi,lw=2)\n",
    "    plt.xscale('log')\n",
    "    plt.legend(loc=3)\n",
    "    plt.show()\n"
   ]
  }
 ],
 "metadata": {
  "kernelspec": {
   "display_name": "fede3",
   "language": "python",
   "name": "python3"
  },
  "language_info": {
   "codemirror_mode": {
    "name": "ipython",
    "version": 3
   },
   "file_extension": ".py",
   "mimetype": "text/x-python",
   "name": "python",
   "nbconvert_exporter": "python",
   "pygments_lexer": "ipython3",
   "version": "3.7.11"
  }
 },
 "nbformat": 4,
 "nbformat_minor": 2
}
