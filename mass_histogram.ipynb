{
 "cells": [
  {
   "cell_type": "code",
   "execution_count": 14,
   "metadata": {},
   "outputs": [
    {
     "name": "stdout",
     "output_type": "stream",
     "text": [
      "BoxSize = 1000.0 Mpc/h\n",
      "Omega_m = 0.3175\n",
      "h = 0.6711\n",
      "redshift = 0.0\n"
     ]
    }
   ],
   "source": [
    "def read_quijote(filepath, cosm, snapnum, axis, space):\n",
    "    \"\"\"\n",
    "    Returns array with Halo positions in Mpc/h\n",
    "    \"\"\"\n",
    "    import numpy as np\n",
    "    import readgadget\n",
    "    import readfof\n",
    "    import redshift_space_library as RSL\n",
    "\n",
    "    #-----------\n",
    "    # Read data from Quijote\n",
    "    #-----------\n",
    "\n",
    "    # get the name of the corresponding snapshot\n",
    "    snapshot = '/home/federico/mnts/clemente/Proyectos/VPF_Quijote/data/quijote/Snapshots/%s/0/snapdir_%03d/snap_%03d'%(cosm,snapnum,snapnum)\n",
    "    \n",
    "    # read the redshift, boxsize, cosmology...etc in the header\n",
    "    header   = readgadget.header(snapshot)\n",
    "    BoxSize  = header.boxsize/1e3  #Mpc/h\n",
    "    #Nall     = header.nall         #Total number of particles\n",
    "    Masses   = header.massarr*1e10 #Masses of the particles in Msun/h\n",
    "    Omega_m  = header.omega_m      #value of Omega_m\n",
    "    Omega_l  = header.omega_l      #value of Omega_l\n",
    "    h        = header.hubble       #value of h\n",
    "    redshift = header.redshift     #redshift of the snapshot\n",
    "    Hubble   = 100.0*np.sqrt(Omega_m*(1.0+redshift)**3+Omega_l) #Value of H(z) in km/s/(Mpc/h)\n",
    "\n",
    "    print(f'BoxSize = {BoxSize} Mpc/h')\n",
    "    #print('Number of particles in the snapshot:',Nall)\n",
    "    print(f'Omega_m = {Omega_m}')\n",
    "    #print('Omega_l = %.3f'%Omega_l)\n",
    "    print(f'h = {h}')\n",
    "    print(f'redshift = {redshift:.1f}')\n",
    "    #print(f'Omega_b = {header.omega_b}')\n",
    "    #print(f'sigma_8 = {header.sigma_8}')\n",
    "    #print(f'ns = {header.ns}')\n",
    "\n",
    "    # read the halo catalogue\n",
    "    #path = dir+'/'+cosm+'/'+simnum\n",
    "    FoF = readfof.FoF_catalog(filepath, snapnum, long_ids=False,\n",
    "                            swap=False, SFR=False, read_IDs=False)\n",
    "    pos_h  = FoF.GroupPos/1e3            #Halo positions in Mpc/h\n",
    "    vel_h  = FoF.GroupVel*(1.0+redshift) #Halo peculiar velocities in km/s\n",
    "    mass_h = FoF.GroupMass*1e10          #Halo masses in Msun/h\n",
    "\n",
    "    if space == 'zspace':\n",
    "    \tRSL.pos_redshift_space(pos_h, vel_h, BoxSize, Hubble, redshift, axis)\n",
    "\n",
    "    return pos_h, vel_h, mass_h, BoxSize  #Halo positions in Mpc/h\n",
    "\n",
    "filepath = '/home/federico/mnts/clemente/Proyectos/VPF_Quijote/data/quijote/Halos/FoF/fiducial/1'\n",
    "cosm = 'fiducial'\n",
    "\n",
    "pos, vel, mass, boxsize = read_quijote(filepath, cosm, 4, 0, 'zspace')"
   ]
  },
  {
   "cell_type": "code",
   "execution_count": 15,
   "metadata": {},
   "outputs": [
    {
     "data": {
      "text/plain": [
       "array([3.9557886e+15, 2.9716014e+15, 2.9177635e+15, ..., 1.3131219e+13,\n",
       "       1.3131219e+13, 1.3131219e+13], dtype=float32)"
      ]
     },
     "execution_count": 15,
     "metadata": {},
     "output_type": "execute_result"
    }
   ],
   "source": [
    "mass"
   ]
  },
  {
   "cell_type": "code",
   "execution_count": 17,
   "metadata": {},
   "outputs": [
    {
     "data": {
      "image/png": "[encoded data removed]",
      "text/plain": [
       "<Figure size 640x480 with 1 Axes>"
      ]
     },
     "metadata": {},
     "output_type": "display_data"
    }
   ],
   "source": [
    "import matplotlib.pyplot as plt\n",
    "import numpy as np\n",
    "\n",
    "def plot_loghist(x, bins):\n",
    "  hist, bins = np.histogram(x, bins=bins)\n",
    "  logbins = np.logspace(np.log10(bins[0]),np.log10(bins[-1]),len(bins))\n",
    "  plt.hist(x, bins=logbins)\n",
    "  plt.xscale('log')\n",
    "  plt.yscale('log')\n",
    "\n",
    "plot_loghist(mass, 30)"
   ]
  }
 ],
 "metadata": {
  "kernelspec": {
   "display_name": "vpf",
   "language": "python",
   "name": "python3"
  },
  "language_info": {
   "codemirror_mode": {
    "name": "ipython",
    "version": 3
   },
   "file_extension": ".py",
   "mimetype": "text/x-python",
   "name": "python",
   "nbconvert_exporter": "python",
   "pygments_lexer": "ipython3",
   "version": "3.9.19"
  }
 },
 "nbformat": 4,
 "nbformat_minor": 2
}
