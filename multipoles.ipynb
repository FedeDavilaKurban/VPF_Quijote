{
 "cells": [
  {
   "cell_type": "code",
   "execution_count": 2,
   "metadata": {},
   "outputs": [],
   "source": [
    "def get_xi0246(corr,nbins_m,nbins_s):\n",
    "    \n",
    "    import numpy as np\n",
    "\t\n",
    "    xi_sm = corr.corr.data['corr']\n",
    "    \n",
    "    ##Modificado para que lea los valores de entrada\n",
    "    ##nbins_m=30 # number of bins in mu\n",
    "    ##nbins_s=29 # number of bins in s\n",
    "    dmu=1.0/nbins_m\n",
    "    \n",
    "    rs = corr.D1D2.coords['r']\n",
    "    mu = corr.D1D2.coords['mu']\n",
    "    \n",
    "    xi_s0 = np.zeros(nbins_s)\n",
    "    xi_s2 = np.zeros(nbins_s)\n",
    "    xi_s4 = np.zeros(nbins_s)\n",
    "    xi_s6 = np.zeros(nbins_s)\n",
    "    \n",
    "    sr = np.zeros(nbins_s)\n",
    "    rm = np.zeros(nbins_m)\n",
    "    \n",
    "    l0 = 0.0\n",
    "    l1 = 1.0\n",
    "    l2 = 2.0\n",
    "    l3 = 3.0\n",
    "    \n",
    "    for i in range(nbins_s):\n",
    "    \t\n",
    "        sr[i] = rs[i]\n",
    "\t\t\n",
    "        for j in range(nbins_m):\n",
    "            rm[j]=mu[j]\n",
    "            xi_s0[i]  += (4.0*l0+1.0)*xi_sm[i,j]*1.0*dmu \n",
    "            xi_s2[i]  += (4.0*l1+1.0)*xi_sm[i,j]*((3*rm[j]**2 - 1.0)/2.0)*dmu\n",
    "            xi_s4[i]  += (4.0*l2+1.0)*xi_sm[i,j]*((35*rm[j]**4 - 30*rm[j]**2 + 3.0)/8.0)*dmu\n",
    "            xi_s6[i]  += (4.0*l3+1.0)*xi_sm[i,j]*((231*rm[j]**6 - 315*rm[j]**4 + 105*rm[j]**2 - 5)/16.0)*dmu\n",
    "    \n",
    "    return xi_s0, xi_s2, xi_s4, xi_s6\n",
    "##################################################################################\n",
    "\n"
   ]
  },
  {
   "cell_type": "code",
   "execution_count": 1,
   "metadata": {},
   "outputs": [],
   "source": [
    "from nbodykit.lab import *\n",
    "\n",
    "bs = 1500.\n",
    "\n",
    "#f = HDFCatalog('',names=['x','y','z','vx','vy','vz','cenflag','Mhalo','CeinID','Xcmhalo','Ycmhalo','Zcmhalo','VXcmhalo','VYcmhalo','VZcmhalo'],usecols=['x','y','z'])\n",
    "\n",
    "def read_quijote(snapdir,snapnum):\n",
    "    \"\"\"\n",
    "    Returns array with Halo positions in Mpc/h\n",
    "    \"\"\"\n",
    "    import readfof\n",
    "\n",
    "    # read the halo catalogue\n",
    "    FoF = readfof.FoF_catalog(snapdir, snapnum, long_ids=False,\n",
    "                            swap=False, SFR=False, read_IDs=False)\n",
    "    # get the properties of the halos\n",
    "    return FoF.GroupPos/1e3  #Halo positions in Mpc/h\n",
    "\n"
   ]
  },
  {
   "cell_type": "code",
   "execution_count": 2,
   "metadata": {},
   "outputs": [
    {
     "ename": "ModuleNotFoundError",
     "evalue": "No module named 'readfof'",
     "output_type": "error",
     "traceback": [
      "\u001b[0;31m---------------------------------------------------------------------------\u001b[0m",
      "\u001b[0;31mModuleNotFoundError\u001b[0m                       Traceback (most recent call last)",
      "\u001b[0;32m<ipython-input-2-a627c1233900>\u001b[0m in \u001b[0;36m<module>\u001b[0;34m\u001b[0m\n\u001b[0;32m----> 1\u001b[0;31m \u001b[0mgxs\u001b[0m\u001b[0;34m=\u001b[0m\u001b[0mread_quijote\u001b[0m\u001b[0;34m(\u001b[0m\u001b[0;34m'../data/quijote/Snapshots/fiducial/0/'\u001b[0m\u001b[0;34m,\u001b[0m\u001b[0;36m4\u001b[0m\u001b[0;34m)\u001b[0m\u001b[0;34m\u001b[0m\u001b[0;34m\u001b[0m\u001b[0m\n\u001b[0m",
      "\u001b[0;32m<ipython-input-1-9d5dd374a596>\u001b[0m in \u001b[0;36mread_quijote\u001b[0;34m(snapdir, snapnum)\u001b[0m\n\u001b[1;32m      9\u001b[0m     \u001b[0mReturns\u001b[0m \u001b[0marray\u001b[0m \u001b[0;32mwith\u001b[0m \u001b[0mHalo\u001b[0m \u001b[0mpositions\u001b[0m \u001b[0;32min\u001b[0m \u001b[0mMpc\u001b[0m\u001b[0;34m/\u001b[0m\u001b[0mh\u001b[0m\u001b[0;34m\u001b[0m\u001b[0;34m\u001b[0m\u001b[0m\n\u001b[1;32m     10\u001b[0m     \"\"\"\n\u001b[0;32m---> 11\u001b[0;31m     \u001b[0;32mimport\u001b[0m \u001b[0mreadfof\u001b[0m\u001b[0;34m\u001b[0m\u001b[0;34m\u001b[0m\u001b[0m\n\u001b[0m\u001b[1;32m     12\u001b[0m \u001b[0;34m\u001b[0m\u001b[0m\n\u001b[1;32m     13\u001b[0m     \u001b[0;31m# read the halo catalogue\u001b[0m\u001b[0;34m\u001b[0m\u001b[0;34m\u001b[0m\u001b[0;34m\u001b[0m\u001b[0m\n",
      "\u001b[0;31mModuleNotFoundError\u001b[0m: No module named 'readfof'"
     ]
    }
   ],
   "source": [
    "gxs=read_quijote('../data/quijote/Snapshots/fiducial/0/',4)"
   ]
  },
  {
   "cell_type": "code",
   "execution_count": null,
   "metadata": {},
   "outputs": [],
   "source": [
    "\n",
    "f['Position'] = transform.StackColumns(f['x'], f['y'], f['z'])\n",
    "#rcat = UniformCatalog(nbar=f.size/bs**3, BoxSize=bs, seed=42)\n",
    "\n",
    "nbins_m = 30\n",
    "nbins_s = 29\n",
    "\n",
    "corr = SimulationBox2PCF('2d',f,np.linspace(5.,150.,nbins_s+1),nbins_m,BoxSize=[bs,bs,bs], periodic=True)\n",
    "\n",
    "xi_l = get_xi0246(corr,nbins_m,nbins_s)\n",
    "\n",
    "nr = 2.5+np.linspace(5.,150.,30)[:-1]\n",
    "for i in range(len(pl)-1):\n",
    "    if i==1: plt.plot(nr,(nr**2)*(-xi_l[i]),label=r'$\\xi_{}(k)$'.format(i*2))\n",
    "    if i!=1: plt.plot(nr,(nr**2)*xi_l[i],label=r'$\\xi_{}(k)$'.format(i*2))\n",
    "#plt.xscale('log')\n",
    "plt.legend()\n",
    "plt.show()"
   ]
  }
 ],
 "metadata": {
  "kernelspec": {
   "display_name": "nbodykit-env",
   "language": "python",
   "name": "python3"
  },
  "language_info": {
   "codemirror_mode": {
    "name": "ipython",
    "version": 3
   },
   "file_extension": ".py",
   "mimetype": "text/x-python",
   "name": "python",
   "nbconvert_exporter": "python",
   "pygments_lexer": "ipython3",
   "version": "3.6.13"
  }
 },
 "nbformat": 4,
 "nbformat_minor": 2
}
